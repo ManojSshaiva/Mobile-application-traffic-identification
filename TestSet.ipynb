{
 "cells": [
  {
   "cell_type": "code",
   "execution_count": 5,
   "id": "74653fed-e99c-4b2a-9a35-eb783c4797af",
   "metadata": {},
   "outputs": [
    {
     "name": "stdout",
     "output_type": "stream",
     "text": [
      "Sampled dataset created with 910 rows.\n"
     ]
    },
    {
     "name": "stderr",
     "output_type": "stream",
     "text": [
      "C:\\Users\\Lenovo\\AppData\\Local\\Temp\\ipykernel_20752\\3503890185.py:12: DeprecationWarning: DataFrameGroupBy.apply operated on the grouping columns. This behavior is deprecated, and in a future version of pandas the grouping columns will be excluded from the operation. Either pass `include_groups=False` to exclude the groupings or explicitly select the grouping columns after groupby to silence this warning.\n",
      "  sampled_data = dataframe.groupby(class_column).apply(\n"
     ]
    }
   ],
   "source": [
    "import pandas as pd\n",
    "\n",
    "def sample_instances_per_class(dataframe, class_column, num_instances=50):\n",
    "    \"\"\"\n",
    "    Samples a specified number of instances for each class in a dataset.\n",
    "\n",
    "    :param dataframe: pandas DataFrame, the input dataset.\n",
    "    :param class_column: str, the column name containing class labels.\n",
    "    :param num_instances: int, the number of instances to sample per class.\n",
    "    :return: pandas DataFrame containing the sampled instances.\n",
    "    \"\"\"\n",
    "    sampled_data = dataframe.groupby(class_column).apply(\n",
    "        lambda group: group.sample(n=num_instances, random_state=42, replace=len(group) < num_instances)\n",
    "    ).reset_index(drop=True)\n",
    "    \n",
    "    return sampled_data\n",
    "\n",
    "# Example usage:\n",
    "# Load your dataset\n",
    "data = pd.read_csv(\"balanced_random_smoteenn.csv\")\n",
    "\n",
    "# Column name containing class labels\n",
    "class_column = \"app\"  # Replace with the name of your class column\n",
    "\n",
    "# Sample 50 instances per class\n",
    "sampled_data = sample_instances_per_class(data, class_column, num_instances=65)\n",
    "\n",
    "# Save the sampled data to a new CSV file if needed\n",
    "sampled_data.to_csv(\"test_dataset.csv\", index=False)\n",
    "\n",
    "print(f\"Sampled dataset created with {len(sampled_data)} rows.\")\n"
   ]
  },
  {
   "cell_type": "code",
   "execution_count": 6,
   "id": "e4d11131-eca1-42d7-8094-27b619d06f6e",
   "metadata": {},
   "outputs": [],
   "source": [
    "import pandas as pd\n",
    "\n",
    "df=pd.read_csv('Processed_wild.csv')\n",
    "\n",
    "valid_classes = [0,1,2,3,4,5,6,7,8,9,10,11,12,13]\n",
    "\n",
    "df_filtered = df[df['app'].isin(valid_classes)]\n",
    "\n",
    "df_sampled = df_filtered.sample(n=100, random_state=42) \n",
    "\n",
    "df_700 = pd.read_csv(\"test_dataset.csv\") \n",
    "\n",
    "df_combined = pd.concat([df_sampled, df_700], ignore_index=True)\n",
    "\n",
    "df_shuffled = df_combined.sample(frac=1, random_state=42).reset_index(drop=True)\n",
    "\n",
    "df_shuffled.to_csv(\"test_dataset.csv\", index=False)\n"
   ]
  },
  {
   "cell_type": "code",
   "execution_count": null,
   "id": "c398a0db-9734-4597-8998-6b4f51e4997b",
   "metadata": {},
   "outputs": [],
   "source": []
  }
 ],
 "metadata": {
  "kernelspec": {
   "display_name": "Python 3 (ipykernel)",
   "language": "python",
   "name": "python3"
  },
  "language_info": {
   "codemirror_mode": {
    "name": "ipython",
    "version": 3
   },
   "file_extension": ".py",
   "mimetype": "text/x-python",
   "name": "python",
   "nbconvert_exporter": "python",
   "pygments_lexer": "ipython3",
   "version": "3.11.4"
  }
 },
 "nbformat": 4,
 "nbformat_minor": 5
}
